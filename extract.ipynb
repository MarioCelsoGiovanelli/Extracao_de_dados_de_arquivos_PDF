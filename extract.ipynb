{
 "cells": [
  {
   "cell_type": "code",
   "execution_count": 2,
   "metadata": {},
   "outputs": [],
   "source": [
    "import openpyxl as xl\n",
    "import pdfplumber\n",
    "import os"
   ]
  },
  {
   "cell_type": "markdown",
   "metadata": {},
   "source": [
    "<h3 style=\"color: #2F666F\">Buscando os arquivos PDF</h3>"
   ]
  },
  {
   "cell_type": "code",
   "execution_count": 3,
   "metadata": {},
   "outputs": [],
   "source": [
    "for arquivo in os.listdir('pdfs'):\n",
    "\n",
    "    if arquivo.lower().endswith('.pdf'):\n",
    "\n",
    "        # Abrindo o arquivo excel:\n",
    "        excel = xl.load_workbook('Base de Dados Inspeções.xlsx')\n",
    "        aba = excel.active\n",
    "        linha_inicio = len(aba['A']) + 1\n",
    "        \n",
    "        # Ler o arquivo PDF e extrair os dados:\n",
    "        pdf = pdfplumber.open(f'pdfs\\\\{arquivo}')\n",
    "        pagina = pdf.pages[0]\n",
    "        dados = pagina.extract_table()\n",
    "\n",
    "        for indice, dado in enumerate(dados[1:], start=linha_inicio):\n",
    "            if dado[0] == '':\n",
    "                pass\n",
    "            else:\n",
    "                aba.cell(row=indice, column=1).value = dado[0]\n",
    "                aba.cell(row=indice, column=2).value = dado[1]\n",
    "                aba.cell(row=indice, column=3).value = dado[2]\n",
    "                aba.cell(row=indice, column=4).value = dado[3]\n",
    "                aba.cell(row=indice, column=5).value = dado[4]\n",
    "\n",
    "        # Fechar e salvar arquivo:\n",
    "        pdf.close()\n",
    "        excel.save('Base de Dados Inspeções.xlsx')\n",
    "        excel.close()\n",
    "\n",
    "    else:\n",
    "        pass\n",
    "\n"
   ]
  },
  {
   "cell_type": "code",
   "execution_count": null,
   "metadata": {},
   "outputs": [],
   "source": []
  }
 ],
 "metadata": {
  "kernelspec": {
   "display_name": "venv",
   "language": "python",
   "name": "python3"
  },
  "language_info": {
   "codemirror_mode": {
    "name": "ipython",
    "version": 3
   },
   "file_extension": ".py",
   "mimetype": "text/x-python",
   "name": "python",
   "nbconvert_exporter": "python",
   "pygments_lexer": "ipython3",
   "version": "3.11.7"
  }
 },
 "nbformat": 4,
 "nbformat_minor": 2
}
